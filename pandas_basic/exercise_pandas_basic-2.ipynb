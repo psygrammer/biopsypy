{
 "cells": [
  {
   "cell_type": "markdown",
   "metadata": {},
   "source": [
    "# 파이썬 pandas 기초 2"
   ]
  },
  {
   "cell_type": "markdown",
   "metadata": {},
   "source": [
    "* 싸이그래머 : 생물심리Py\n",
    "* 작성자 : 김무성    "
   ]
  },
  {
   "cell_type": "markdown",
   "metadata": {},
   "source": [
    "# 차례"
   ]
  },
  {
   "cell_type": "markdown",
   "metadata": {},
   "source": [
    "* 기초\n",
    "* 응용"
   ]
  },
  {
   "cell_type": "markdown",
   "metadata": {},
   "source": [
    "## 기초 [1]"
   ]
  },
  {
   "cell_type": "markdown",
   "metadata": {},
   "source": [
    "* pandas 기초 2\n",
    "  - (pandas groupby) 문제 1. DataFrame의 GroupBy 연산 (1)\n",
    "  - (pandas groupby) 문제 1. DataFrame의 GroupBy 연산 (2)"
   ]
  },
  {
   "cell_type": "markdown",
   "metadata": {},
   "source": [
    "### pandas 기초 2"
   ]
  },
  {
   "cell_type": "markdown",
   "metadata": {},
   "source": [
    "#### (pandas groupby) 문제 1. DataFrame의 GroupBy 연산 (1)"
   ]
  },
  {
   "cell_type": "markdown",
   "metadata": {},
   "source": [
    "#####  아래 코드로 만들어진 DataFrame 자료형 df가 있다. "
   ]
  },
  {
   "cell_type": "code",
   "execution_count": 1,
   "metadata": {
    "collapsed": true
   },
   "outputs": [],
   "source": [
    "import numpy as np\n",
    "import pandas as pd"
   ]
  },
  {
   "cell_type": "code",
   "execution_count": 8,
   "metadata": {
    "collapsed": false
   },
   "outputs": [
    {
     "data": {
      "text/html": [
       "<div style=\"max-height:1000px;max-width:1500px;overflow:auto;\">\n",
       "<table border=\"1\" class=\"dataframe\">\n",
       "  <thead>\n",
       "    <tr style=\"text-align: right;\">\n",
       "      <th></th>\n",
       "      <th>No1</th>\n",
       "      <th>No2</th>\n",
       "      <th>No3</th>\n",
       "      <th>No4</th>\n",
       "      <th>Quarter</th>\n",
       "    </tr>\n",
       "  </thead>\n",
       "  <tbody>\n",
       "    <tr>\n",
       "      <th>2015-01-31</th>\n",
       "      <td>-1.044786</td>\n",
       "      <td>-0.550579</td>\n",
       "      <td> 0.782547</td>\n",
       "      <td> 1.698578</td>\n",
       "      <td> Q1</td>\n",
       "    </tr>\n",
       "    <tr>\n",
       "      <th>2015-02-28</th>\n",
       "      <td>-0.018285</td>\n",
       "      <td>-0.125141</td>\n",
       "      <td> 0.383689</td>\n",
       "      <td>-0.968214</td>\n",
       "      <td> Q1</td>\n",
       "    </tr>\n",
       "    <tr>\n",
       "      <th>2015-03-31</th>\n",
       "      <td> 2.103675</td>\n",
       "      <td>-1.336472</td>\n",
       "      <td> 1.161989</td>\n",
       "      <td>-1.477480</td>\n",
       "      <td> Q1</td>\n",
       "    </tr>\n",
       "    <tr>\n",
       "      <th>2015-04-30</th>\n",
       "      <td>-0.440311</td>\n",
       "      <td>-0.983961</td>\n",
       "      <td> 0.334371</td>\n",
       "      <td>-0.857697</td>\n",
       "      <td> Q2</td>\n",
       "    </tr>\n",
       "    <tr>\n",
       "      <th>2015-05-31</th>\n",
       "      <td>-0.594368</td>\n",
       "      <td> 0.693181</td>\n",
       "      <td>-0.092998</td>\n",
       "      <td> 0.769309</td>\n",
       "      <td> Q2</td>\n",
       "    </tr>\n",
       "    <tr>\n",
       "      <th>2015-06-30</th>\n",
       "      <td>-0.335726</td>\n",
       "      <td>-0.397243</td>\n",
       "      <td> 1.780188</td>\n",
       "      <td>-0.593021</td>\n",
       "      <td> Q2</td>\n",
       "    </tr>\n",
       "    <tr>\n",
       "      <th>2015-07-31</th>\n",
       "      <td>-1.013463</td>\n",
       "      <td>-1.200899</td>\n",
       "      <td> 0.677641</td>\n",
       "      <td> 0.854850</td>\n",
       "      <td> Q3</td>\n",
       "    </tr>\n",
       "    <tr>\n",
       "      <th>2015-08-31</th>\n",
       "      <td>-0.098204</td>\n",
       "      <td>-0.464421</td>\n",
       "      <td> 1.725880</td>\n",
       "      <td>-1.118988</td>\n",
       "      <td> Q3</td>\n",
       "    </tr>\n",
       "    <tr>\n",
       "      <th>2015-09-30</th>\n",
       "      <td>-1.206143</td>\n",
       "      <td>-1.060707</td>\n",
       "      <td>-0.135560</td>\n",
       "      <td> 0.085676</td>\n",
       "      <td> Q3</td>\n",
       "    </tr>\n",
       "  </tbody>\n",
       "</table>\n",
       "</div>"
      ],
      "text/plain": [
       "                 No1       No2       No3       No4 Quarter\n",
       "2015-01-31 -1.044786 -0.550579  0.782547  1.698578      Q1\n",
       "2015-02-28 -0.018285 -0.125141  0.383689 -0.968214      Q1\n",
       "2015-03-31  2.103675 -1.336472  1.161989 -1.477480      Q1\n",
       "2015-04-30 -0.440311 -0.983961  0.334371 -0.857697      Q2\n",
       "2015-05-31 -0.594368  0.693181 -0.092998  0.769309      Q2\n",
       "2015-06-30 -0.335726 -0.397243  1.780188 -0.593021      Q2\n",
       "2015-07-31 -1.013463 -1.200899  0.677641  0.854850      Q3\n",
       "2015-08-31 -0.098204 -0.464421  1.725880 -1.118988      Q3\n",
       "2015-09-30 -1.206143 -1.060707 -0.135560  0.085676      Q3"
      ]
     },
     "execution_count": 8,
     "metadata": {},
     "output_type": "execute_result"
    }
   ],
   "source": [
    "a = np.random.standard_normal((9, 4))\n",
    "df = pd.DataFrame(a)\n",
    "df.columns = [['No1', 'No2', 'No3', 'No4']]\n",
    "dates = pd.date_range('2015-1-1', periods=9, freq='M')\n",
    "df.index = dates\n",
    "df['Quarter'] = ['Q1', 'Q1', 'Q1', 'Q2', 'Q2', 'Q2', 'Q3', 'Q3', 'Q3']\n",
    "df"
   ]
  },
  {
   "cell_type": "markdown",
   "metadata": {},
   "source": [
    "##### a) 쿼터(Quater)별, 각 컬럼들의 평균을 구하시오"
   ]
  },
  {
   "cell_type": "code",
   "execution_count": null,
   "metadata": {
    "collapsed": false
   },
   "outputs": [],
   "source": [
    "# input yuour code"
   ]
  },
  {
   "cell_type": "markdown",
   "metadata": {},
   "source": [
    "##### b) 쿼터(Quater)별, 각 컬럼의 최대값을 구하시오"
   ]
  },
  {
   "cell_type": "code",
   "execution_count": null,
   "metadata": {
    "collapsed": false
   },
   "outputs": [],
   "source": [
    "# input yuour code"
   ]
  },
  {
   "cell_type": "markdown",
   "metadata": {},
   "source": [
    "#### (pandas groupby) 문제 2. DataFrame의 GroupBy 연산 (2)"
   ]
  },
  {
   "cell_type": "markdown",
   "metadata": {
    "collapsed": false
   },
   "source": [
    "#### a) 문제 1에서 자료의 date는 홀수거나 짝수요일로 구분할 수 있다. 이를 구분하는 칼럼을 추가하시오 (칼럼명은 Odd_Even, 범주는 date가 홀수면 Odd, 짝수면 Even으로)"
   ]
  },
  {
   "cell_type": "code",
   "execution_count": null,
   "metadata": {
    "collapsed": false
   },
   "outputs": [],
   "source": [
    "# input yuour code"
   ]
  },
  {
   "cell_type": "markdown",
   "metadata": {},
   "source": [
    "##### b) a로부터 나온 결과에서, (Quater 와 Odd_Even)별  자료가 몇개씩인지 구하시오. 예) Q1이면서 Even인 자료. Q2면서 Odd인 자료의 수."
   ]
  },
  {
   "cell_type": "code",
   "execution_count": null,
   "metadata": {
    "collapsed": false
   },
   "outputs": [],
   "source": [
    "# input yuour code"
   ]
  },
  {
   "cell_type": "markdown",
   "metadata": {},
   "source": [
    "##### c) a로부터 나온 결과에서, 각 컬럼에 대해 (Quater 와 Odd_Even)별  평균이 얼마인지 구하시오. 예) Q1이면서 Even인 No1 값들의 평균"
   ]
  },
  {
   "cell_type": "code",
   "execution_count": null,
   "metadata": {
    "collapsed": false
   },
   "outputs": [],
   "source": [
    "# input yuour code"
   ]
  },
  {
   "cell_type": "markdown",
   "metadata": {},
   "source": [
    "## 응용 [2]"
   ]
  },
  {
   "cell_type": "markdown",
   "metadata": {},
   "source": [
    "* 응용문제  - pandas를 이용한 버거킹 데이터 분석"
   ]
  },
  {
   "cell_type": "markdown",
   "metadata": {},
   "source": [
    "### 응용문제  - pandas를 이용한 버거킹 데이터 분석"
   ]
  },
  {
   "cell_type": "markdown",
   "metadata": {},
   "source": [
    "* 전국의 버거킹 매장에 대해, 지역별(시군구단위까지)로 24시간 하는 곳(AllHour)의 점포수를 구하라 "
   ]
  },
  {
   "cell_type": "code",
   "execution_count": null,
   "metadata": {
    "collapsed": false
   },
   "outputs": [],
   "source": [
    "# input yuour code"
   ]
  },
  {
   "cell_type": "markdown",
   "metadata": {},
   "source": [
    "## 참고자료 \n",
    "\n",
    " * [1] Python for Finance - http://shop.oreilly.com/product/0636920032441.do\n",
    " * [2] \"버거 지수\"는 진짜 도시의 발전 수준을 반영할까? - http://nbviewer.ipython.org/gist/hyeshik/cf9f3d7686e07eedbfda?revision=6"
   ]
  }
 ],
 "metadata": {
  "kernelspec": {
   "display_name": "Python 2",
   "language": "python",
   "name": "python2"
  },
  "language_info": {
   "codemirror_mode": {
    "name": "ipython",
    "version": 2
   },
   "file_extension": ".py",
   "mimetype": "text/x-python",
   "name": "python",
   "nbconvert_exporter": "python",
   "pygments_lexer": "ipython2",
   "version": "2.7.6"
  }
 },
 "nbformat": 4,
 "nbformat_minor": 0
}
