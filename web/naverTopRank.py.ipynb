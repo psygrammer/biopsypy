{
 "metadata": {
  "name": "",
  "signature": "sha256:82dc497c8d87958178f6fdffe4cd2b84fbd9cc9bc804cc3968d37f8c64aa3724"
 },
 "nbformat": 3,
 "nbformat_minor": 0,
 "worksheets": [
  {
   "cells": [
    {
     "cell_type": "heading",
     "level": 1,
     "metadata": {},
     "source": [
      "\ud30c\uc774\uc36c\uc73c\ub85c \ub124\uc774\ubc84 \uc2e4\uc2dc\uac04 \uae09\uc0c1\uc2b9 \uac80\uc0c9\uc5b4 \uac00\uc838\uc624\uae30"
     ]
    },
    {
     "cell_type": "markdown",
     "metadata": {},
     "source": [
      "* \uc2f8\uc774\uadf8\ub798\uba38 : \uc0dd\ubb3c\uc2ec\ub9acPy\n",
      "* \uc6d0\uc18c\uc2a4 \uc791\uc131\uc790 : \uc774\ud0dc\uc601\n",
      "* ipython notebook \ubc84\uc804\uc73c\ub85c \uc62e\uae40 : \uae40\ubb34\uc131\n",
      "* \uc6d0 \uc18c\uc2a4 - https://github.com/qwefgh90/WebDownloader/blob/master/naverTopRank.py\n",
      "* \uad00\ub828 \ubc1c\ud45c\uc790\ub8cc - https://docs.google.com/file/d/0BzAdMcZ2ia6ER25XbEZTTndxdlE"
     ]
    },
    {
     "cell_type": "heading",
     "level": 1,
     "metadata": {},
     "source": [
      "Step By Step"
     ]
    },
    {
     "cell_type": "heading",
     "level": 2,
     "metadata": {},
     "source": [
      "\uad00\ub828 \ud328\ud0a4\uc9c0 \uc784\ud3ec\ud2b8"
     ]
    },
    {
     "cell_type": "code",
     "collapsed": false,
     "input": [
      "# pip install requests\n",
      "# pip install beautifulsoup4\n",
      "\n",
      "import requests as rs\n",
      "import bs4\n",
      "import time"
     ],
     "language": "python",
     "metadata": {},
     "outputs": [],
     "prompt_number": 75
    },
    {
     "cell_type": "heading",
     "level": 2,
     "metadata": {},
     "source": [
      "\ud06c\ub864\ub9c1 \ud0c0\ucf13\ud305"
     ]
    },
    {
     "cell_type": "code",
     "collapsed": false,
     "input": [
      "naver_url = 'http://www.naver.com'"
     ],
     "language": "python",
     "metadata": {},
     "outputs": [],
     "prompt_number": 76
    },
    {
     "cell_type": "heading",
     "level": 2,
     "metadata": {},
     "source": [
      "1) \uc694\uccad"
     ]
    },
    {
     "cell_type": "code",
     "collapsed": false,
     "input": [
      "response = rs.get(naver_url)"
     ],
     "language": "python",
     "metadata": {},
     "outputs": [],
     "prompt_number": 77
    },
    {
     "cell_type": "heading",
     "level": 2,
     "metadata": {},
     "source": [
      "2) \uc751\ub2f5\uc73c\ub85c \ubd80\ud130 HTML \ucd94\ucd9c"
     ]
    },
    {
     "cell_type": "code",
     "collapsed": false,
     "input": [
      "html_content = response.text.encode(response.encoding);"
     ],
     "language": "python",
     "metadata": {},
     "outputs": [],
     "prompt_number": 78
    },
    {
     "cell_type": "code",
     "collapsed": false,
     "input": [
      "type(html_content)"
     ],
     "language": "python",
     "metadata": {},
     "outputs": [
      {
       "metadata": {},
       "output_type": "pyout",
       "prompt_number": 79,
       "text": [
        "str"
       ]
      }
     ],
     "prompt_number": 79
    },
    {
     "cell_type": "code",
     "collapsed": false,
     "input": [
      "html_content[:1000]"
     ],
     "language": "python",
     "metadata": {},
     "outputs": [
      {
       "metadata": {},
       "output_type": "pyout",
       "prompt_number": 80,
       "text": [
        "'<!doctype html>\\n<html lang=\"ko\">\\n<head>\\n<meta charset=\"utf-8\">\\n<meta http-equiv=\"Content-Script-Type\" content=\"text/javascript\">\\n<meta http-equiv=\"Content-Style-Type\" content=\"text/css\">\\n<meta http-equiv=\"X-UA-Compatible\" content=\"IE=edge\">\\n<meta name=\"viewport\" content=\"width=960\">\\n<meta name=\"apple-mobile-web-app-title\" content=\"NAVER\" />\\n<link rel=\"shortcut icon\" type=\"image/x-icon\" href=\"/favicon.ico?1\" />\\n\\n<title>NAVER</title>\\n\\n\\n\\n\\n\\n\\n\\n<link rel=\"stylesheet\" type=\"text/css\" href=\"http://s.pm.naver.net/css/main_v20150302.css\" />\\n\\n<link rel=\"stylesheet\" type=\"text/css\" id=\"css\" href=\"http://sstatic.naver.net/search/css/2014/api_atcmp_0415.css\" />\\n\\n<script type=\"text/javascript\">\\n//<![CDATA[\\ndocument.domain = \"naver.com\";\\nhistory.navigationMode = \\'compatible\\';\\nvar nsc = \"navertop.v3\";\\nvar jindoAll = \"http://s.pm.naver.net/js/c/jindo.all.20140327.min.js\";\\n</script>\\n<script type=\"text/javascript\" src=\"http://s.pm.naver.net/js/c/nlog_20140205.min.js\"></script>\\n<script type=\"text/javascrip'"
       ]
      }
     ],
     "prompt_number": 80
    },
    {
     "cell_type": "heading",
     "level": 2,
     "metadata": {},
     "source": [
      "3)HTML \ud30c\uc2f1"
     ]
    },
    {
     "cell_type": "code",
     "collapsed": false,
     "input": [
      "navigator = bs4.BeautifulSoup(html_content)"
     ],
     "language": "python",
     "metadata": {},
     "outputs": [],
     "prompt_number": 81
    },
    {
     "cell_type": "code",
     "collapsed": false,
     "input": [
      "type(navigator)"
     ],
     "language": "python",
     "metadata": {},
     "outputs": [
      {
       "metadata": {},
       "output_type": "pyout",
       "prompt_number": 82,
       "text": [
        "bs4.BeautifulSoup"
       ]
      }
     ],
     "prompt_number": 82
    },
    {
     "cell_type": "heading",
     "level": 2,
     "metadata": {},
     "source": [
      "4)\ub124\ube44\uac8c\uc774\ud130\ub97c \uc774\uc6a9\ud574 \uc6d0\ud558\ub294 \ud0dc\uadf8 \ub9ac\uc2a4\ud2b8 \uac00\uc838\uc624\uae30"
     ]
    },
    {
     "cell_type": "code",
     "collapsed": false,
     "input": [
      "realRankTag = navigator.find_all(id='realrank')"
     ],
     "language": "python",
     "metadata": {},
     "outputs": [],
     "prompt_number": 83
    },
    {
     "cell_type": "code",
     "collapsed": false,
     "input": [
      "type(realRankTag)"
     ],
     "language": "python",
     "metadata": {},
     "outputs": [
      {
       "metadata": {},
       "output_type": "pyout",
       "prompt_number": 84,
       "text": [
        "bs4.element.ResultSet"
       ]
      }
     ],
     "prompt_number": 84
    },
    {
     "cell_type": "code",
     "collapsed": false,
     "input": [
      "len(realRankTag)"
     ],
     "language": "python",
     "metadata": {},
     "outputs": [
      {
       "metadata": {},
       "output_type": "pyout",
       "prompt_number": 85,
       "text": [
        "1"
       ]
      }
     ],
     "prompt_number": 85
    },
    {
     "cell_type": "code",
     "collapsed": false,
     "input": [
      "realRankTag"
     ],
     "language": "python",
     "metadata": {},
     "outputs": [
      {
       "metadata": {},
       "output_type": "pyout",
       "prompt_number": 86,
       "text": [
        "[<ol id=\"realrank\" style=\"margin-top:0px;\">\n",
        " <li class=\"up\" value=\"1\"><a href=\"http://search.naver.com/search.naver?where=nexearch&amp;query=%EB%B0%B1%EC%9D%98%EC%A2%85%EA%B5%B0&amp;sm=top_lve&amp;ie=utf8\" title=\"\ubc31\uc758\uc885\uad70\">\ubc31\uc758\uc885\uad70<span class=\"tx\">\uc0c1\uc2b9</span><span class=\"ic\"></span><span class=\"rk\">960</span></a></li>\n",
        " <li class=\"up\" value=\"2\"><a href=\"http://search.naver.com/search.naver?where=nexearch&amp;query=%EC%95%A0%ED%94%8C%EC%9B%8C%EC%B9%98&amp;sm=top_lve&amp;ie=utf8\" title=\"\uc560\ud50c\uc6cc\uce58\">\uc560\ud50c\uc6cc\uce58<span class=\"tx\">\uc0c1\uc2b9</span><span class=\"ic\"></span><span class=\"rk\">120</span></a></li>\n",
        " <li class=\"up\" value=\"3\"><a href=\"http://search.naver.com/search.naver?where=nexearch&amp;query=%EA%B9%80%EC%83%81%EA%B2%BD&amp;sm=top_lve&amp;ie=utf8\" title=\"\uae40\uc0c1\uacbd\">\uae40\uc0c1\uacbd<span class=\"tx\">\uc0c1\uc2b9</span><span class=\"ic\"></span><span class=\"rk\">240</span></a></li>\n",
        " <li class=\"up\" value=\"4\"><a href=\"http://search.naver.com/search.naver?where=nexearch&amp;query=%EB%B0%95%EC%A3%BC%EC%98%81&amp;sm=top_lve&amp;ie=utf8\" title=\"\ubc15\uc8fc\uc601\">\ubc15\uc8fc\uc601<span class=\"tx\">\uc0c1\uc2b9</span><span class=\"ic\"></span><span class=\"rk\">177</span></a></li>\n",
        " <li class=\"up\" value=\"5\"><a href=\"http://search.naver.com/search.naver?where=nexearch&amp;query=%EC%95%A0%ED%94%8C&amp;sm=top_lve&amp;ie=utf8\" title=\"\uc560\ud50c\">\uc560\ud50c<span class=\"tx\">\uc0c1\uc2b9</span><span class=\"ic\"></span><span class=\"rk\">60</span></a></li>\n",
        " <li class=\"up\" value=\"6\"><a href=\"http://search.naver.com/search.naver?where=nexearch&amp;query=%EB%A7%A5%EB%B6%81&amp;sm=top_lve&amp;ie=utf8\" title=\"\ub9e5\ubd81\">\ub9e5\ubd81<span class=\"tx\">\uc0c1\uc2b9</span><span class=\"ic\"></span><span class=\"rk\">144</span></a></li>\n",
        " <li class=\"up\" value=\"7\"><a href=\"http://search.naver.com/search.naver?where=nexearch&amp;query=ios8.2&amp;sm=top_lve&amp;ie=utf8\" title=\"ios8.2\">ios8.2<span class=\"tx\">\uc0c1\uc2b9</span><span class=\"ic\"></span><span class=\"rk\">279</span></a></li>\n",
        " <li class=\"up\" value=\"8\"><a href=\"http://search.naver.com/search.naver?where=nexearch&amp;query=%EB%A7%A8%EC%9C%A0+%EC%95%84%EC%8A%A4%EB%82%A0&amp;sm=top_lve&amp;ie=utf8\" title=\"\ub9e8\uc720 \uc544\uc2a4\ub0a0\">\ub9e8\uc720 \uc544\uc2a4\ub0a0<span class=\"tx\">\uc0c1\uc2b9</span><span class=\"ic\"></span><span class=\"rk\">198</span></a></li>\n",
        " <li class=\"up\" value=\"9\"><a href=\"http://search.naver.com/search.naver?where=nexearch&amp;query=%EB%B9%84%EC%A0%95%EC%83%81%ED%9A%8C%EB%8B%B4&amp;sm=top_lve&amp;ie=utf8\" title=\"\ube44\uc815\uc0c1\ud68c\ub2f4\">\ube44\uc815\uc0c1\ud68c\ub2f4<span class=\"tx\">\uc0c1\uc2b9</span><span class=\"ic\"></span><span class=\"rk\">54</span></a></li>\n",
        " <li class=\"up\" value=\"10\"><a href=\"http://search.naver.com/search.naver?where=nexearch&amp;query=%EA%B9%80%EC%82%AC%EC%9D%80&amp;sm=top_lve&amp;ie=utf8\" title=\"\uae40\uc0ac\uc740\">\uae40\uc0ac\uc740<span class=\"tx\">\uc0c1\uc2b9</span><span class=\"ic\"></span><span class=\"rk\">312</span></a></li>\n",
        " <li class=\"up\" id=\"lastrank\" value=\"1\"><a href=\"http://search.naver.com/search.naver?where=nexearch&amp;query=%EB%B0%B1%EC%9D%98%EC%A2%85%EA%B5%B0&amp;sm=top_lve&amp;ie=utf8\" title=\"\ubc31\uc758\uc885\uad70\">\ubc31\uc758\uc885\uad70<span class=\"tx\">\uc0c1\uc2b9</span><span class=\"ic\"></span><span class=\"rk\">960</span></a></li>\n",
        " </ol>]"
       ]
      }
     ],
     "prompt_number": 86
    },
    {
     "cell_type": "code",
     "collapsed": false,
     "input": [
      "type(realRankTag[0])"
     ],
     "language": "python",
     "metadata": {},
     "outputs": [
      {
       "metadata": {},
       "output_type": "pyout",
       "prompt_number": 87,
       "text": [
        "bs4.element.Tag"
       ]
      }
     ],
     "prompt_number": 87
    },
    {
     "cell_type": "code",
     "collapsed": false,
     "input": [
      "realRankTag[0]"
     ],
     "language": "python",
     "metadata": {},
     "outputs": [
      {
       "metadata": {},
       "output_type": "pyout",
       "prompt_number": 88,
       "text": [
        "<ol id=\"realrank\" style=\"margin-top:0px;\">\n",
        "<li class=\"up\" value=\"1\"><a href=\"http://search.naver.com/search.naver?where=nexearch&amp;query=%EB%B0%B1%EC%9D%98%EC%A2%85%EA%B5%B0&amp;sm=top_lve&amp;ie=utf8\" title=\"\ubc31\uc758\uc885\uad70\">\ubc31\uc758\uc885\uad70<span class=\"tx\">\uc0c1\uc2b9</span><span class=\"ic\"></span><span class=\"rk\">960</span></a></li>\n",
        "<li class=\"up\" value=\"2\"><a href=\"http://search.naver.com/search.naver?where=nexearch&amp;query=%EC%95%A0%ED%94%8C%EC%9B%8C%EC%B9%98&amp;sm=top_lve&amp;ie=utf8\" title=\"\uc560\ud50c\uc6cc\uce58\">\uc560\ud50c\uc6cc\uce58<span class=\"tx\">\uc0c1\uc2b9</span><span class=\"ic\"></span><span class=\"rk\">120</span></a></li>\n",
        "<li class=\"up\" value=\"3\"><a href=\"http://search.naver.com/search.naver?where=nexearch&amp;query=%EA%B9%80%EC%83%81%EA%B2%BD&amp;sm=top_lve&amp;ie=utf8\" title=\"\uae40\uc0c1\uacbd\">\uae40\uc0c1\uacbd<span class=\"tx\">\uc0c1\uc2b9</span><span class=\"ic\"></span><span class=\"rk\">240</span></a></li>\n",
        "<li class=\"up\" value=\"4\"><a href=\"http://search.naver.com/search.naver?where=nexearch&amp;query=%EB%B0%95%EC%A3%BC%EC%98%81&amp;sm=top_lve&amp;ie=utf8\" title=\"\ubc15\uc8fc\uc601\">\ubc15\uc8fc\uc601<span class=\"tx\">\uc0c1\uc2b9</span><span class=\"ic\"></span><span class=\"rk\">177</span></a></li>\n",
        "<li class=\"up\" value=\"5\"><a href=\"http://search.naver.com/search.naver?where=nexearch&amp;query=%EC%95%A0%ED%94%8C&amp;sm=top_lve&amp;ie=utf8\" title=\"\uc560\ud50c\">\uc560\ud50c<span class=\"tx\">\uc0c1\uc2b9</span><span class=\"ic\"></span><span class=\"rk\">60</span></a></li>\n",
        "<li class=\"up\" value=\"6\"><a href=\"http://search.naver.com/search.naver?where=nexearch&amp;query=%EB%A7%A5%EB%B6%81&amp;sm=top_lve&amp;ie=utf8\" title=\"\ub9e5\ubd81\">\ub9e5\ubd81<span class=\"tx\">\uc0c1\uc2b9</span><span class=\"ic\"></span><span class=\"rk\">144</span></a></li>\n",
        "<li class=\"up\" value=\"7\"><a href=\"http://search.naver.com/search.naver?where=nexearch&amp;query=ios8.2&amp;sm=top_lve&amp;ie=utf8\" title=\"ios8.2\">ios8.2<span class=\"tx\">\uc0c1\uc2b9</span><span class=\"ic\"></span><span class=\"rk\">279</span></a></li>\n",
        "<li class=\"up\" value=\"8\"><a href=\"http://search.naver.com/search.naver?where=nexearch&amp;query=%EB%A7%A8%EC%9C%A0+%EC%95%84%EC%8A%A4%EB%82%A0&amp;sm=top_lve&amp;ie=utf8\" title=\"\ub9e8\uc720 \uc544\uc2a4\ub0a0\">\ub9e8\uc720 \uc544\uc2a4\ub0a0<span class=\"tx\">\uc0c1\uc2b9</span><span class=\"ic\"></span><span class=\"rk\">198</span></a></li>\n",
        "<li class=\"up\" value=\"9\"><a href=\"http://search.naver.com/search.naver?where=nexearch&amp;query=%EB%B9%84%EC%A0%95%EC%83%81%ED%9A%8C%EB%8B%B4&amp;sm=top_lve&amp;ie=utf8\" title=\"\ube44\uc815\uc0c1\ud68c\ub2f4\">\ube44\uc815\uc0c1\ud68c\ub2f4<span class=\"tx\">\uc0c1\uc2b9</span><span class=\"ic\"></span><span class=\"rk\">54</span></a></li>\n",
        "<li class=\"up\" value=\"10\"><a href=\"http://search.naver.com/search.naver?where=nexearch&amp;query=%EA%B9%80%EC%82%AC%EC%9D%80&amp;sm=top_lve&amp;ie=utf8\" title=\"\uae40\uc0ac\uc740\">\uae40\uc0ac\uc740<span class=\"tx\">\uc0c1\uc2b9</span><span class=\"ic\"></span><span class=\"rk\">312</span></a></li>\n",
        "<li class=\"up\" id=\"lastrank\" value=\"1\"><a href=\"http://search.naver.com/search.naver?where=nexearch&amp;query=%EB%B0%B1%EC%9D%98%EC%A2%85%EA%B5%B0&amp;sm=top_lve&amp;ie=utf8\" title=\"\ubc31\uc758\uc885\uad70\">\ubc31\uc758\uc885\uad70<span class=\"tx\">\uc0c1\uc2b9</span><span class=\"ic\"></span><span class=\"rk\">960</span></a></li>\n",
        "</ol>"
       ]
      }
     ],
     "prompt_number": 88
    },
    {
     "cell_type": "code",
     "collapsed": false,
     "input": [
      "# a \ud0dc\uadf8\ub97c \uac00\uc9c4 \uc694\uc18c\ub4e4 \ubaa8\ub450 \ucd94\ucd9c\n",
      "resultList = realRankTag[0].find_all('a')"
     ],
     "language": "python",
     "metadata": {},
     "outputs": [],
     "prompt_number": 89
    },
    {
     "cell_type": "code",
     "collapsed": false,
     "input": [
      "type(resultList)"
     ],
     "language": "python",
     "metadata": {},
     "outputs": [
      {
       "metadata": {},
       "output_type": "pyout",
       "prompt_number": 90,
       "text": [
        "bs4.element.ResultSet"
       ]
      }
     ],
     "prompt_number": 90
    },
    {
     "cell_type": "code",
     "collapsed": false,
     "input": [
      "len(resultList)"
     ],
     "language": "python",
     "metadata": {},
     "outputs": [
      {
       "metadata": {},
       "output_type": "pyout",
       "prompt_number": 91,
       "text": [
        "11"
       ]
      }
     ],
     "prompt_number": 91
    },
    {
     "cell_type": "code",
     "collapsed": false,
     "input": [
      "resultList"
     ],
     "language": "python",
     "metadata": {},
     "outputs": [
      {
       "metadata": {},
       "output_type": "pyout",
       "prompt_number": 92,
       "text": [
        "[<a href=\"http://search.naver.com/search.naver?where=nexearch&amp;query=%EB%B0%B1%EC%9D%98%EC%A2%85%EA%B5%B0&amp;sm=top_lve&amp;ie=utf8\" title=\"\ubc31\uc758\uc885\uad70\">\ubc31\uc758\uc885\uad70<span class=\"tx\">\uc0c1\uc2b9</span><span class=\"ic\"></span><span class=\"rk\">960</span></a>,\n",
        " <a href=\"http://search.naver.com/search.naver?where=nexearch&amp;query=%EC%95%A0%ED%94%8C%EC%9B%8C%EC%B9%98&amp;sm=top_lve&amp;ie=utf8\" title=\"\uc560\ud50c\uc6cc\uce58\">\uc560\ud50c\uc6cc\uce58<span class=\"tx\">\uc0c1\uc2b9</span><span class=\"ic\"></span><span class=\"rk\">120</span></a>,\n",
        " <a href=\"http://search.naver.com/search.naver?where=nexearch&amp;query=%EA%B9%80%EC%83%81%EA%B2%BD&amp;sm=top_lve&amp;ie=utf8\" title=\"\uae40\uc0c1\uacbd\">\uae40\uc0c1\uacbd<span class=\"tx\">\uc0c1\uc2b9</span><span class=\"ic\"></span><span class=\"rk\">240</span></a>,\n",
        " <a href=\"http://search.naver.com/search.naver?where=nexearch&amp;query=%EB%B0%95%EC%A3%BC%EC%98%81&amp;sm=top_lve&amp;ie=utf8\" title=\"\ubc15\uc8fc\uc601\">\ubc15\uc8fc\uc601<span class=\"tx\">\uc0c1\uc2b9</span><span class=\"ic\"></span><span class=\"rk\">177</span></a>,\n",
        " <a href=\"http://search.naver.com/search.naver?where=nexearch&amp;query=%EC%95%A0%ED%94%8C&amp;sm=top_lve&amp;ie=utf8\" title=\"\uc560\ud50c\">\uc560\ud50c<span class=\"tx\">\uc0c1\uc2b9</span><span class=\"ic\"></span><span class=\"rk\">60</span></a>,\n",
        " <a href=\"http://search.naver.com/search.naver?where=nexearch&amp;query=%EB%A7%A5%EB%B6%81&amp;sm=top_lve&amp;ie=utf8\" title=\"\ub9e5\ubd81\">\ub9e5\ubd81<span class=\"tx\">\uc0c1\uc2b9</span><span class=\"ic\"></span><span class=\"rk\">144</span></a>,\n",
        " <a href=\"http://search.naver.com/search.naver?where=nexearch&amp;query=ios8.2&amp;sm=top_lve&amp;ie=utf8\" title=\"ios8.2\">ios8.2<span class=\"tx\">\uc0c1\uc2b9</span><span class=\"ic\"></span><span class=\"rk\">279</span></a>,\n",
        " <a href=\"http://search.naver.com/search.naver?where=nexearch&amp;query=%EB%A7%A8%EC%9C%A0+%EC%95%84%EC%8A%A4%EB%82%A0&amp;sm=top_lve&amp;ie=utf8\" title=\"\ub9e8\uc720 \uc544\uc2a4\ub0a0\">\ub9e8\uc720 \uc544\uc2a4\ub0a0<span class=\"tx\">\uc0c1\uc2b9</span><span class=\"ic\"></span><span class=\"rk\">198</span></a>,\n",
        " <a href=\"http://search.naver.com/search.naver?where=nexearch&amp;query=%EB%B9%84%EC%A0%95%EC%83%81%ED%9A%8C%EB%8B%B4&amp;sm=top_lve&amp;ie=utf8\" title=\"\ube44\uc815\uc0c1\ud68c\ub2f4\">\ube44\uc815\uc0c1\ud68c\ub2f4<span class=\"tx\">\uc0c1\uc2b9</span><span class=\"ic\"></span><span class=\"rk\">54</span></a>,\n",
        " <a href=\"http://search.naver.com/search.naver?where=nexearch&amp;query=%EA%B9%80%EC%82%AC%EC%9D%80&amp;sm=top_lve&amp;ie=utf8\" title=\"\uae40\uc0ac\uc740\">\uae40\uc0ac\uc740<span class=\"tx\">\uc0c1\uc2b9</span><span class=\"ic\"></span><span class=\"rk\">312</span></a>,\n",
        " <a href=\"http://search.naver.com/search.naver?where=nexearch&amp;query=%EB%B0%B1%EC%9D%98%EC%A2%85%EA%B5%B0&amp;sm=top_lve&amp;ie=utf8\" title=\"\ubc31\uc758\uc885\uad70\">\ubc31\uc758\uc885\uad70<span class=\"tx\">\uc0c1\uc2b9</span><span class=\"ic\"></span><span class=\"rk\">960</span></a>]"
       ]
      }
     ],
     "prompt_number": 92
    },
    {
     "cell_type": "code",
     "collapsed": false,
     "input": [
      "item = resultList[0]"
     ],
     "language": "python",
     "metadata": {},
     "outputs": [],
     "prompt_number": 93
    },
    {
     "cell_type": "code",
     "collapsed": false,
     "input": [
      "type(item)"
     ],
     "language": "python",
     "metadata": {},
     "outputs": [
      {
       "metadata": {},
       "output_type": "pyout",
       "prompt_number": 94,
       "text": [
        "bs4.element.Tag"
       ]
      }
     ],
     "prompt_number": 94
    },
    {
     "cell_type": "code",
     "collapsed": false,
     "input": [
      "len(item)"
     ],
     "language": "python",
     "metadata": {},
     "outputs": [
      {
       "metadata": {},
       "output_type": "pyout",
       "prompt_number": 95,
       "text": [
        "4"
       ]
      }
     ],
     "prompt_number": 95
    },
    {
     "cell_type": "code",
     "collapsed": false,
     "input": [
      "item"
     ],
     "language": "python",
     "metadata": {},
     "outputs": [
      {
       "metadata": {},
       "output_type": "pyout",
       "prompt_number": 96,
       "text": [
        "<a href=\"http://search.naver.com/search.naver?where=nexearch&amp;query=%EB%B0%B1%EC%9D%98%EC%A2%85%EA%B5%B0&amp;sm=top_lve&amp;ie=utf8\" title=\"\ubc31\uc758\uc885\uad70\">\ubc31\uc758\uc885\uad70<span class=\"tx\">\uc0c1\uc2b9</span><span class=\"ic\"></span><span class=\"rk\">960</span></a>"
       ]
      }
     ],
     "prompt_number": 96
    },
    {
     "cell_type": "code",
     "collapsed": false,
     "input": [
      "item['href']"
     ],
     "language": "python",
     "metadata": {},
     "outputs": [
      {
       "metadata": {},
       "output_type": "pyout",
       "prompt_number": 97,
       "text": [
        "u'http://search.naver.com/search.naver?where=nexearch&query=%EB%B0%B1%EC%9D%98%EC%A2%85%EA%B5%B0&sm=top_lve&ie=utf8'"
       ]
      }
     ],
     "prompt_number": 97
    },
    {
     "cell_type": "code",
     "collapsed": false,
     "input": [
      "item['title']"
     ],
     "language": "python",
     "metadata": {},
     "outputs": [
      {
       "metadata": {},
       "output_type": "pyout",
       "prompt_number": 98,
       "text": [
        "u'\\ubc31\\uc758\\uc885\\uad70'"
       ]
      }
     ],
     "prompt_number": 98
    },
    {
     "cell_type": "heading",
     "level": 2,
     "metadata": {},
     "source": [
      "5)\ud0a4\uc6cc\ub4dc \ucd94\ucd9c"
     ]
    },
    {
     "cell_type": "code",
     "collapsed": false,
     "input": [
      "keywords = [item['title'] for item in resultList]"
     ],
     "language": "python",
     "metadata": {},
     "outputs": [],
     "prompt_number": 99
    },
    {
     "cell_type": "code",
     "collapsed": false,
     "input": [
      "keywords[:3]"
     ],
     "language": "python",
     "metadata": {},
     "outputs": [
      {
       "metadata": {},
       "output_type": "pyout",
       "prompt_number": 100,
       "text": [
        "[u'\\ubc31\\uc758\\uc885\\uad70',\n",
        " u'\\uc560\\ud50c\\uc6cc\\uce58',\n",
        " u'\\uae40\\uc0c1\\uacbd']"
       ]
      }
     ],
     "prompt_number": 100
    },
    {
     "cell_type": "code",
     "collapsed": false,
     "input": [
      "for index, keyword in enumerate(keywords):\n",
      "    resultText = '[%d\uc704] %s'%(index,keyword.encode('utf-8'))\n",
      "    print resultText.decode('utf-8').encode('utf-8')"
     ],
     "language": "python",
     "metadata": {},
     "outputs": [
      {
       "output_type": "stream",
       "stream": "stdout",
       "text": [
        "[0\uc704] \ubc31\uc758\uc885\uad70\n",
        "[1\uc704] \uc560\ud50c\uc6cc\uce58\n",
        "[2\uc704] \uae40\uc0c1\uacbd\n",
        "[3\uc704] \ubc15\uc8fc\uc601\n",
        "[4\uc704] \uc560\ud50c\n",
        "[5\uc704] \ub9e5\ubd81\n",
        "[6\uc704] ios8.2\n",
        "[7\uc704] \ub9e8\uc720 \uc544\uc2a4\ub0a0\n",
        "[8\uc704] \ube44\uc815\uc0c1\ud68c\ub2f4\n",
        "[9\uc704] \uae40\uc0ac\uc740\n",
        "[10\uc704] \ubc31\uc758\uc885\uad70\n"
       ]
      }
     ],
     "prompt_number": 101
    },
    {
     "cell_type": "heading",
     "level": 1,
     "metadata": {},
     "source": [
      "\ud568\uc218\ub85c \ub9cc\ub4e4\uae30"
     ]
    },
    {
     "cell_type": "markdown",
     "metadata": {},
     "source": [
      "\uc704\uc758 \ub2e8\uacc4\ub4e4\uc744 \ubaa8\ub450 \ud569\uccd0\uc11c \ud568\uc218\ub85c \ub9cc\ub4e0\ub2e4."
     ]
    },
    {
     "cell_type": "code",
     "collapsed": false,
     "input": [
      "#-*- encoding: utf-8 -*-\n",
      "#\uc2e4\uc2dc\uac04 \uac80\uc0c9\uc5b4\n",
      "import requests as rs\n",
      "import bs4\n",
      "import time\n",
      "\n",
      "\n",
      "def getTopRank():\n",
      "    naver_url = 'http://www.naver.com'\n",
      "    #1)\uc694\uccad\n",
      "    response = rs.get(naver_url)\n",
      "\n",
      "    #2)\uc751\ub2f5\uc73c\ub85c \ubd80\ud130 HTML \ucd94\ucd9c\n",
      "    html_content = response.text.encode(response.encoding);\n",
      "\n",
      "    #3)HTML \ud30c\uc2f1\n",
      "    navigator = bs4.BeautifulSoup(html_content)\n",
      "\n",
      "    #4)\ub124\ube44\uac8c\uc774\ud130\ub97c \uc774\uc6a9\ud574 \uc6d0\ud558\ub294 \ud0dc\uadf8 \ub9ac\uc2a4\ud2b8 \uac00\uc838\uc624\uae30\n",
      "    realRankTag = navigator.find_all(id='realrank')\n",
      "    resultList = realRankTag[0].find_all('a')\n",
      "\n",
      "\n",
      "    #5)\ud0a4\uc6cc\ub4dc \ucd94\ucd9c\n",
      "    keywords = [item['title'] for item in resultList]\n",
      "\n",
      "    print '============='\n",
      "    print time.ctime()\n",
      "    print ''\n",
      "\n",
      "    #6)\ud0a4\uc6cc\ub4dc \ucd9c\ub825\n",
      "    for index, keyword in enumerate(keywords):\n",
      "        resultText = '[%d\uc704] %s'%(index,keyword.encode('utf-8'))\n",
      "        print resultText.decode('utf-8').encode('utf-8')"
     ],
     "language": "python",
     "metadata": {},
     "outputs": [],
     "prompt_number": 102
    },
    {
     "cell_type": "code",
     "collapsed": false,
     "input": [
      "# \uc2e4\ud589\n",
      "getTopRank()"
     ],
     "language": "python",
     "metadata": {},
     "outputs": [
      {
       "output_type": "stream",
       "stream": "stdout",
       "text": [
        "=============\n",
        "Tue Mar 10 10:44:19 2015\n",
        "\n",
        "[0\uc704] \ubc31\uc758\uc885\uad70\n",
        "[1\uc704] \uc560\ud50c\uc6cc\uce58\n",
        "[2\uc704] \uae40\uc0c1\uacbd\n",
        "[3\uc704] \ubc15\uc8fc\uc601\n",
        "[4\uc704] \uc560\ud50c\n",
        "[5\uc704] \ub9e5\ubd81\n",
        "[6\uc704] ios8.2\n",
        "[7\uc704] \ube44\uc815\uc0c1\ud68c\ub2f4\n",
        "[8\uc704] \uae40\uc0ac\uc740\n",
        "[9\uc704] \ub9e8\uc720 \uc544\uc2a4\ub0a0\n",
        "[10\uc704] \ubc31\uc758\uc885\uad70\n"
       ]
      }
     ],
     "prompt_number": 103
    }
   ],
   "metadata": {}
  }
 ]
}